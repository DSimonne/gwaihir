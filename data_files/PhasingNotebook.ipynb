{
 "cells": [
  {
   "cell_type": "code",
   "execution_count": null,
   "metadata": {},
   "outputs": [],
   "source": [
    "import numpy as np\n",
    "import h5py\n",
    "from numpy.fft import fftshift\n",
    "from scipy.ndimage.measurements import center_of_mass\n",
    "from scipy.ndimage import gaussian_filter\n",
    "import matplotlib.pyplot as plt\n",
    "import glob\n",
    "\n",
    "# This imports all necessary operators. GPU will be auto-selected\n",
    "from pynx.cdi import *\n",
    "from pynx.utils.math import smaller_primes"
   ]
  },
  {
   "cell_type": "markdown",
   "metadata": {},
   "source": [
    "# Which matplotlib to use\n",
    "* %inline, plots do not update\n",
    "* %notebook on jupyter notebook\n",
    "* %ipyml on jupyter lab, not supported yet"
   ]
  },
  {
   "cell_type": "code",
   "execution_count": null,
   "metadata": {},
   "outputs": [],
   "source": [
    "%matplotlib notebook"
   ]
  },
  {
   "cell_type": "markdown",
   "metadata": {},
   "source": [
    "# Make sure you are in the right folder/using the right data"
   ]
  },
  {
   "cell_type": "code",
   "execution_count": null,
   "metadata": {},
   "outputs": [],
   "source": [
    "glob.glob(\"*.npz\")"
   ]
  },
  {
   "cell_type": "markdown",
   "metadata": {},
   "source": [
    "# Extract data"
   ]
  },
  {
   "cell_type": "code",
   "execution_count": null,
   "metadata": {},
   "outputs": [],
   "source": [
    "nrj = 12.996\n",
    "wavelength = 12.384 / nrj * 1e-10\n",
    "print(\"  CXI input: Energy = %8.2fkeV\" % nrj)\n",
    "print(f\"  CXI input: Wavelength = {wavelength*1e10} A\")\n",
    "\n",
    "detector_distance = 0.83\n",
    "print(\"  CXI input: detector distance = %8.2fm\" % detector_distance)\n",
    "\n",
    "pixel_size_detector = 55e-6\n",
    "print(\"  CXI input: detector pixel size = %8.2fum\" % (pixel_size_detector * 1e6))\n",
    "\n",
    "scan = glob.glob(\"*_pynx_align*.npz\")[0].split(\"_\")[0]\n",
    "print(\"  Scan n°\", scan)\n",
    "\n",
    "iobs = np.load(glob.glob(\"*_pynx_align*.npz\")[0])[\"data\"]\n",
    "print(\"  CXI input: loading data\")\n",
    "\n",
    "mask = np.load(glob.glob(\"*maskpynx*.npz\")[0])[\"mask\"].astype(np.int8)\n",
    "nb = mask.sum()\n",
    "print(\"  CXI input: loading mask, with %d pixels masked (%6.3f%%)\" % (nb, nb * 100 / mask.size))"
   ]
  },
  {
   "cell_type": "markdown",
   "metadata": {},
   "source": [
    "# Centre & crop data\n",
    "\n",
    "Crop data around center of mass, with a maximum size along the 3 directions"
   ]
  },
  {
   "cell_type": "code",
   "execution_count": null,
   "metadata": {},
   "outputs": [],
   "source": [
    "max_size = 256\n",
    "if iobs.ndim == 3:\n",
    "    nz0, ny0, nx0 = iobs.shape\n",
    "    \n",
    "    # Find center of mass\n",
    "    z0, y0, x0 = center_of_mass(iobs)\n",
    "    print(\"Center of mass at:\", z0, y0, x0)\n",
    "    iz0, iy0, ix0 = int(round(z0)), int(round(y0)), int(round(x0))\n",
    "    \n",
    "    # Max symmetrical box around center of mass\n",
    "    nx = 2 * min(ix0, nx0 - ix0)\n",
    "    ny = 2 * min(iy0, ny0 - iy0)\n",
    "    nz = 2 * min(iz0, nz0 - iz0)\n",
    "    \n",
    "    if max_size is not None:\n",
    "        nx = min(nx, max_size)\n",
    "        ny = min(ny, max_size)\n",
    "        nz = min(nz, max_size)\n",
    "        \n",
    "    # Crop data to fulfill FFT size requirements\n",
    "    nz1, ny1, nx1 = smaller_primes((nz, ny, nx), maxprime=7, required_dividers=(2,))\n",
    "\n",
    "    print(\"Centering & reshaping data: (%d, %d, %d) -> (%d, %d, %d)\" % (nz0, ny0, nx0, nz1, ny1, nx1))\n",
    "    iobs = iobs[iz0 - nz1 // 2:iz0 + nz1 // 2, iy0 - ny1 // 2:iy0 + ny1 // 2,\n",
    "                ix0 - nx1 // 2:ix0 + nx1 // 2]\n",
    "    if mask is not None:\n",
    "        mask = mask[iz0 - nz1 // 2:iz0 + nz1 // 2, iy0 - ny1 // 2:iy0 + ny1 // 2,\n",
    "                    ix0 - nx1 // 2:ix0 + nx1 // 2]\n",
    "        print(\"Centering & reshaping mask: (%d, %d, %d) -> (%d, %d, %d)\" % (nz0, ny0, nx0, nz1, ny1, nx1))\n",
    "        \n",
    "else:\n",
    "    ny0, nx0 = iobs.shape\n",
    "    \n",
    "    # Find center of mass\n",
    "    y0, x0 = center_of_mass(iobs)\n",
    "    print(\"Center of mass at:\", y0, x0)\n",
    "    iy0, ix0 = int(round(y0)), int(round(x0))\n",
    "    \n",
    "    # Max symmetrical box around center of mass\n",
    "    nx = 2 * min(ix0, nx0 - ix0)\n",
    "    ny = 2 * min(iy0, ny0 - iy0)\n",
    "    if max_size is not None:\n",
    "        nx = min(nx, max_size)\n",
    "        ny = min(ny, max_size)\n",
    "        nz = min(nz, max_size)\n",
    "        \n",
    "    # Crop data to fulfill FFT size requirements\n",
    "    ny1, nx1 = smaller_primes((ny, nx), maxprime=7, required_dividers=(2,))\n",
    "\n",
    "    print(\"Centering & reshaping data: (%d, %d) -> (%d, %d)\" % (ny0, nx0, ny1, nx1))\n",
    "    iobs = iobs[iy0 - ny1 // 2:iy0 + ny1 // 2, ix0 - nx1 // 2:ix0 + nx1 // 2]\n",
    "    \n",
    "    if mask is not None:\n",
    "        mask = mask[iy0 - ny1 // 2:iy0 + ny1 // 2, ix0 - nx1 // 2:ix0 + nx1 // 2]"
   ]
  },
  {
   "cell_type": "markdown",
   "metadata": {},
   "source": [
    "# Run 1\n",
    "\n",
    "To define the support if not good enough, can be sufficient otherwise"
   ]
  },
  {
   "cell_type": "code",
   "execution_count": null,
   "metadata": {
    "scrolled": true
   },
   "outputs": [],
   "source": [
    "nrun = 5\n",
    "\n",
    "for i in range(nrun):\n",
    "    print(f\"Run {i}\")\n",
    "    \n",
    "    # Create cdi object with data and mask, laod the main parameters\n",
    "    cdi = CDI(fftshift(iobs),\n",
    "              support = None,\n",
    "              obj = None,\n",
    "              mask = fftshift(mask),\n",
    "              wavelength = wavelength,\n",
    "              pixel_size_detector = pixel_size_detector,\n",
    "             detector_distance = detector_distance)\n",
    "    \n",
    "    if i==0:\n",
    "        cdi.save_data_cxi(\n",
    "            filename = \"DiffractionData.cxi\",\n",
    "            sample_name = \"III-B20\",\n",
    "            experiment_id = \"HC4050\",\n",
    "            instrument = \"ID01\")\n",
    "\n",
    "    # Change support threshold for supports update\n",
    "    threshold_relative = np.random.uniform(0.25, 0.33)\n",
    "    print(f\"Threshold: {threshold_relative}\")\n",
    "    \n",
    "    sup = SupportUpdate(\n",
    "        threshold_relative = threshold_relative,\n",
    "        smooth_width=(2, 1, 600),\n",
    "        force_shrink = False,\n",
    "        method='rms', \n",
    "        post_expand = (1, -2, 1),\n",
    "    )\n",
    "    \n",
    "    # Initialize the free pixels for LLK\n",
    "    cdi = InitFreePixels() * cdi\n",
    "\n",
    "    # Initialize the support with autocorrelation\n",
    "    cdi = ShowCDI() * ScaleObj() * AutoCorrelationSupport(\n",
    "        threshold = 0.1,\n",
    "        verbose = True) * cdi\n",
    "\n",
    "    # Begin with HIO cycles without PSF and with support updates\n",
    "    try:\n",
    "        cdi = (sup * HIO(beta=0.9, calc_llk=50, show_cdi=50)**50)**8 * cdi\n",
    "        cdi = (sup * RAAR(beta=0.9, calc_llk=50, show_cdi=50)**50)**10 * cdi\n",
    "\n",
    "        # PSF is introduced at 66% of HIO and RAAR so from cycle n°924\n",
    "        cdi = InitPSF(\n",
    "            model = \"gaussian\",\n",
    "            fwhm = 0.3,\n",
    "            # eta = 0.1,\n",
    "        ) * cdi\n",
    "\n",
    "        cdi = (sup * RAAR(beta=0.9, calc_llk=50, show_cdi=50, update_psf=20)**50)**10 * cdi\n",
    "        cdi = (sup * ER(calc_llk=50, show_cdi=50, update_psf=20)**50)**6 * cdi\n",
    "\n",
    "        cdi.save_obj_cxi(\"reconstructions/result_scan_{}_run_{}_LLK_{:.4}_support_{:.4}_autocorrelation.cxi\".format(scan,\n",
    "                                                                                         i,\n",
    "                                                                                         cdi.get_llk()[0],\n",
    "                                                                                        threshold_relative))\n",
    "    \n",
    "    except SupportTooLarge:\n",
    "        print(\"Threshold value probably too low, support too large too continue\")\n",
    "        pass\n",
    "        \n",
    "    \n",
    "    print(\"\\n##########################################################################################################\\n\")"
   ]
  },
  {
   "cell_type": "code",
   "execution_count": null,
   "metadata": {},
   "outputs": [],
   "source": [
    "!/home/esrf/favre/dev/devel.p9/bin/pynx-cdi-analysis.py *LLK* modes mode_crop=no modes_output=modes.h5"
   ]
  },
  {
   "cell_type": "markdown",
   "metadata": {},
   "source": [
    "# Create support"
   ]
  },
  {
   "cell_type": "code",
   "execution_count": null,
   "metadata": {},
   "outputs": [],
   "source": [
    "%matplotlib inline"
   ]
  },
  {
   "cell_type": "code",
   "execution_count": null,
   "metadata": {},
   "outputs": [],
   "source": [
    "good_scan = \"result_run1_no_sup_psf.cxi\""
   ]
  },
  {
   "cell_type": "code",
   "execution_count": null,
   "metadata": {},
   "outputs": [],
   "source": [
    "# Get data\n",
    "\n",
    "with h5py.File(good_scan, \"r\") as f:\n",
    "    data = f[\"entry_1\"][\"data_1\"][\"data\"][:]\n",
    "\n",
    "plt.imshow(np.abs(data[data.shape[0]//2, :, :][:]))"
   ]
  },
  {
   "cell_type": "code",
   "execution_count": null,
   "metadata": {},
   "outputs": [],
   "source": [
    "# Create support \n",
    "\n",
    "amp = np.abs(data)\n",
    "threshold = 0.05\n",
    "support = np.where(amp > threshold * np.max(amp), 1, 0)\n",
    "\n",
    "plt.imshow(support[data.shape[0]//2, :, :][:])"
   ]
  },
  {
   "cell_type": "code",
   "execution_count": null,
   "metadata": {},
   "outputs": [],
   "source": [
    "sigma = 0.8\n",
    "\n",
    "bigdata = 100 * support\n",
    "conv_support = np.where(gaussian_filter(bigdata, sigma) != 0, 1, 0)\n",
    "\n",
    "plt.imshow(conv_support[data.shape[0]//2, :, :][:])\n",
    "\n",
    "np.savez(f\"support_filter_sig_{sigma}_threshold_{threshold}.npz\", oldmask = support, mask = conv_support)"
   ]
  },
  {
   "cell_type": "markdown",
   "metadata": {},
   "source": [
    "# Get support"
   ]
  },
  {
   "cell_type": "code",
   "execution_count": null,
   "metadata": {},
   "outputs": [],
   "source": [
    "support = np.load(f\"support_filter_sig_{sigma}_threshold_{threshold}.npz\")[\"mask\"].astype(\"int8\")\n",
    "\n",
    "# Or you can simply get the support from the last scan\n",
    "# Another solution is to reload the saved file and to get its support\n",
    "# cdi.get_support()"
   ]
  },
  {
   "cell_type": "markdown",
   "metadata": {},
   "source": [
    "# Run 2"
   ]
  },
  {
   "cell_type": "code",
   "execution_count": null,
   "metadata": {
    "scrolled": true
   },
   "outputs": [],
   "source": [
    "nrun = 5\n",
    "\n",
    "for i in range(nrun):\n",
    "    print(f\"Run {i}\")\n",
    "    \n",
    "    # Create cdi object with data and mask, laod the main parameters\n",
    "    cdi = CDI(fftshift(iobs),\n",
    "              support = support,\n",
    "              obj = None,\n",
    "              mask = fftshift(mask),\n",
    "              wavelength = wavelength,\n",
    "              pixel_size_detector = pixel_size_detector,\n",
    "             detector_distance = detector_distance)\n",
    "    \n",
    "    if i==0:\n",
    "        cdi.save_data_cxi(\n",
    "            filename = \"DiffractionData.cxi\",\n",
    "            sample_name = \"III-B20\",\n",
    "            experiment_id = \"HC4050\",\n",
    "            instrument = \"ID01\")\n",
    "\n",
    "    # Change support threshold for supports update\n",
    "    threshold_relative = np.random.uniform(0.25, 0.33)\n",
    "    print(f\"Threshold: {threshold_relative}\")\n",
    "    \n",
    "    sup = SupportUpdate(\n",
    "        threshold_relative = threshold_relative,\n",
    "        smooth_width=(2, 1, 600),\n",
    "        force_shrink = False,\n",
    "        method='rms', \n",
    "        post_expand = (1, -2, 1),\n",
    "    )\n",
    "    \n",
    "    # Initialize the free pixels for LLK\n",
    "    cdi = InitFreePixels() * cdi\n",
    "\n",
    "    # Initialize the support with autocorrelation\n",
    "    cdi = ShowCDI() * ScaleObj() * AutoCorrelationSupport(\n",
    "        threshold = 0.1,\n",
    "        verbose = True) * cdi\n",
    "\n",
    "    # Begin with HIO cycles without PSF and with support updates\n",
    "    try:\n",
    "        cdi = (sup * HIO(beta=0.9, calc_llk=50, show_cdi=50)**50)**8 * cdi\n",
    "        cdi = (sup * RAAR(beta=0.9, calc_llk=50, show_cdi=50)**50)**10 * cdi\n",
    "\n",
    "        # PSF is introduced at 66% of HIO and RAAR so from cycle n°924\n",
    "        cdi = InitPSF(\n",
    "            model = \"gaussian\",\n",
    "            fwhm = 0.3,\n",
    "            # eta = 0.1,\n",
    "        ) * cdi\n",
    "\n",
    "        cdi = (sup * RAAR(beta=0.9, calc_llk=50, show_cdi=50, update_psf=20)**50)**10 * cdi\n",
    "        cdi = (sup * ER(calc_llk=50, show_cdi=50, update_psf=20)**50)**6 * cdi\n",
    "\n",
    "        cdi.save_obj_cxi(\"result_scan_{}_run_{}_LLK_{:.4}_support_{:.4}_autocorrelation.cxi\".format(scan,\n",
    "                                                                                         i,\n",
    "                                                                                         cdi.get_llk()[0],\n",
    "                                                                                        threshold_relative))\n",
    "    \n",
    "    except SupportTooLarge:\n",
    "        print(\"Threshold value probably too low, support too large too continue\")\n",
    "        pass\n",
    "        \n",
    "    \n",
    "    print(\"\\n##########################################################################################################\\n\")"
   ]
  }
 ],
 "metadata": {
  "kernelspec": {
   "display_name": "p9.pynx-devel",
   "language": "python",
   "name": "p9.pynx-devel"
  },
  "language_info": {
   "codemirror_mode": {
    "name": "ipython",
    "version": 3
   },
   "file_extension": ".py",
   "mimetype": "text/x-python",
   "name": "python",
   "nbconvert_exporter": "python",
   "pygments_lexer": "ipython3",
   "version": "3.8.5"
  }
 },
 "nbformat": 4,
 "nbformat_minor": 4
}
